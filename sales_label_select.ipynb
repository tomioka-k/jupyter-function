{
 "cells": [
  {
   "cell_type": "code",
   "execution_count": 2,
   "metadata": {},
   "outputs": [],
   "source": [
    "import pandas as pd"
   ]
  },
  {
   "cell_type": "code",
   "execution_count": 93,
   "metadata": {},
   "outputs": [],
   "source": [
    "df = pd.read_csv('')"
   ]
  },
  {
   "cell_type": "code",
   "execution_count": 33,
   "metadata": {},
   "outputs": [],
   "source": [
    "sapporo = ['北海道']\n",
    "sendai = ['青森県', '岩手県' ,'秋田県', '宮城県', '山形県', '福島県']\n",
    "tokyo = ['東京都']\n",
    "toka = ['八王子市','立川市','武蔵野市','三鷹市','青梅市','府中市','昭島市','調布市','町田市','小金井市','小平市','日野市','東村山市','国分寺市','国立市','福生市','狛江市',\n",
    "        '東大和市','清瀬市','東久留米市','武蔵村山市','多摩市','稲城市','羽村市','あきる野市','西東京市','瑞穂町','日の出町','檜原村','奥多摩町','大島町','利島村','新島村',\n",
    "        '神津島村','三宅村','御蔵島村','八丈町','青ヶ島村','小笠原村']\n",
    "ku = ['千代田区','中央区','港区','新宿区','文京区','台東区','墨田区','江東区','品川区','目黒区','大田区','世田谷区','渋谷区','中野区','杉並区','豊島区','北区','荒川区','板橋区',\n",
    "      '練馬区','足立区','葛飾区','江戸川区']\n",
    "tama = ['山梨県']\n",
    "chiba = ['千葉県', '茨城県']\n",
    "kitakanto = ['埼玉県', '栃木県', '群馬県', '新潟県', '長野県']\n",
    "yokohama = ['神奈川県', '静岡県']\n",
    "nagoya = ['愛知県', '岐阜県', '三重県']\n",
    "kanazawa = ['石川県', '富山県', '福井県']\n",
    "osaka = ['大阪府', '滋賀県', '京都府', '奈良県', '和歌山県']\n",
    "kobe = ['兵庫県', '香川県', '徳島県', '愛媛県', '高知県']\n",
    "hirosima = ['広島県', '岡山県', '鳥取県', '島根県', '山口県']\n",
    "hukuoka = ['福岡県', '佐賀県', '長崎県', '大分県', '宮崎県', '熊本県', '鹿児島県', '沖縄県']"
   ]
  },
  {
   "cell_type": "code",
   "execution_count": 59,
   "metadata": {},
   "outputs": [],
   "source": [
    "eigyou_dict = {\n",
    "    \"札幌営業所\": sapporo,\n",
    "    \"仙台営業所\": sendai,\n",
    "    \"千葉営業所\":chiba,\n",
    "    \"北関東営業所\":kitakanto,\n",
    "    \"横浜営業所\":yokohama,\n",
    "    \"名古屋営業所\":nagoya,\n",
    "    \"金沢営業所\":kanazawa,\n",
    "    \"大阪支店\":osaka,\n",
    "    \"神戸営業所\":kobe,\n",
    "    \"広島営業所\":hirosima,\n",
    "    \"福岡営業所\":hukuoka,\n",
    "    \"多摩営業所\":tama\n",
    "}"
   ]
  },
  {
   "cell_type": "code",
   "execution_count": 92,
   "metadata": {},
   "outputs": [
    {
     "data": {
      "text/plain": [
       "東京支店      39\n",
       "大阪支店      15\n",
       "名古屋営業所    14\n",
       "福岡営業所      9\n",
       "横浜営業所      9\n",
       "札幌営業所      7\n",
       "神戸営業所      6\n",
       "仙台営業所      6\n",
       "多摩営業所      4\n",
       "千葉営業所      3\n",
       "広島営業所      2\n",
       "金沢営業所      1\n",
       "北関東営業所     1\n",
       "Name: 営業所, dtype: int64"
      ]
     },
     "execution_count": 92,
     "metadata": {},
     "output_type": "execute_result"
    }
   ],
   "source": [
    "def add_eigyousho(row):\n",
    "    \"\"\"\n",
    "    都道府県から営業所に分ける\n",
    "    \"\"\"\n",
    "    prefecture = row[\"都道府県\"]\n",
    "    adress = row[\"住所\"]\n",
    "    \n",
    "    if prefecture == \"東京都\":\n",
    "        for ku_tan in ku:\n",
    "            if  ku_tan in adress:\n",
    "                return \"東京支店\"\n",
    "        return \"多摩営業所\"\n",
    "    else:\n",
    "        for d in eigyou_dict.keys():\n",
    "            if prefecture in eigyou_dict[d]:\n",
    "                return d\n",
    "\n",
    "        \n",
    "df[\"営業所\"] = df.apply(add_eigyousho, axis=1)\n",
    "df[\"営業所\"].value_counts()"
   ]
  }
 ],
 "metadata": {
  "kernelspec": {
   "display_name": "Python 3",
   "language": "python",
   "name": "python3"
  },
  "language_info": {
   "codemirror_mode": {
    "name": "ipython",
    "version": 3
   },
   "file_extension": ".py",
   "mimetype": "text/x-python",
   "name": "python",
   "nbconvert_exporter": "python",
   "pygments_lexer": "ipython3",
   "version": "3.8.5"
  }
 },
 "nbformat": 4,
 "nbformat_minor": 4
}
